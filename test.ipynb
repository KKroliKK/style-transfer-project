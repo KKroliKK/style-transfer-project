{
 "cells": [
  {
   "cell_type": "code",
   "execution_count": 1,
   "metadata": {},
   "outputs": [
    {
     "data": {
      "text/plain": [
       "'5003606077:AAFkVpK832gFbLQTYQ1X50QhVFqsbQqEsFM'"
      ]
     },
     "execution_count": 1,
     "metadata": {},
     "output_type": "execute_result"
    }
   ],
   "source": [
    "from dotenv import load_dotenv\n",
    "\n",
    "load_dotenv()\n",
    "\n",
    "import os\n",
    "\n",
    "os.getenv(\"API_TOKEN\")"
   ]
  },
  {
   "cell_type": "code",
   "execution_count": 2,
   "metadata": {},
   "outputs": [
    {
     "data": {
      "text/plain": [
       "['c:\\\\Studying\\\\Practical Machine Learning\\\\style-transfer-project',\n",
       " 'c:\\\\Users\\\\Andrey\\\\anaconda3\\\\envs\\\\style_transfer\\\\python311.zip',\n",
       " 'c:\\\\Users\\\\Andrey\\\\anaconda3\\\\envs\\\\style_transfer\\\\DLLs',\n",
       " 'c:\\\\Users\\\\Andrey\\\\anaconda3\\\\envs\\\\style_transfer\\\\Lib',\n",
       " 'c:\\\\Users\\\\Andrey\\\\anaconda3\\\\envs\\\\style_transfer',\n",
       " '',\n",
       " 'c:\\\\Users\\\\Andrey\\\\anaconda3\\\\envs\\\\style_transfer\\\\Lib\\\\site-packages',\n",
       " 'c:\\\\Users\\\\Andrey\\\\anaconda3\\\\envs\\\\style_transfer\\\\Lib\\\\site-packages\\\\win32',\n",
       " 'c:\\\\Users\\\\Andrey\\\\anaconda3\\\\envs\\\\style_transfer\\\\Lib\\\\site-packages\\\\win32\\\\lib',\n",
       " 'c:\\\\Users\\\\Andrey\\\\anaconda3\\\\envs\\\\style_transfer\\\\Lib\\\\site-packages\\\\Pythonwin']"
      ]
     },
     "execution_count": 2,
     "metadata": {},
     "output_type": "execute_result"
    }
   ],
   "source": [
    "import sys\n",
    "\n",
    "sys.path"
   ]
  },
  {
   "cell_type": "code",
   "execution_count": 1,
   "metadata": {},
   "outputs": [
    {
     "ename": "ModuleNotFoundError",
     "evalue": "No module named 'data_base'",
     "output_type": "error",
     "traceback": [
      "\u001b[1;31m---------------------------------------------------------------------------\u001b[0m",
      "\u001b[1;31mModuleNotFoundError\u001b[0m                       Traceback (most recent call last)",
      "\u001b[1;32mc:\\Studying\\Practical Machine Learning\\style-transfer-project\\test.ipynb Cell 3\u001b[0m line \u001b[0;36m1\n\u001b[1;32m----> <a href='vscode-notebook-cell:/c%3A/Studying/Practical%20Machine%20Learning/style-transfer-project/test.ipynb#W2sZmlsZQ%3D%3D?line=0'>1</a>\u001b[0m \u001b[39mfrom\u001b[39;00m \u001b[39msrc\u001b[39;00m\u001b[39m.\u001b[39;00m\u001b[39mdata_base\u001b[39;00m \u001b[39mimport\u001b[39;00m example_photos\n",
      "File \u001b[1;32mc:\\Studying\\Practical Machine Learning\\style-transfer-project\\src\\data_base\\__init__.py:1\u001b[0m\n\u001b[1;32m----> 1\u001b[0m \u001b[39mfrom\u001b[39;00m \u001b[39mdata_base\u001b[39;00m \u001b[39mimport\u001b[39;00m style_photos, example_photos\n",
      "\u001b[1;31mModuleNotFoundError\u001b[0m: No module named 'data_base'"
     ]
    }
   ],
   "source": [
    "from src.data_base import example_photos"
   ]
  }
 ],
 "metadata": {
  "kernelspec": {
   "display_name": "style_transfer",
   "language": "python",
   "name": "python3"
  },
  "language_info": {
   "codemirror_mode": {
    "name": "ipython",
    "version": 3
   },
   "file_extension": ".py",
   "mimetype": "text/x-python",
   "name": "python",
   "nbconvert_exporter": "python",
   "pygments_lexer": "ipython3",
   "version": "3.11.5"
  }
 },
 "nbformat": 4,
 "nbformat_minor": 2
}
