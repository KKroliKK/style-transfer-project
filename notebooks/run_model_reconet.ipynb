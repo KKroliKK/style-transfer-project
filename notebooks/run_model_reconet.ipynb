{
 "cells": [
  {
   "cell_type": "code",
   "execution_count": 1,
   "id": "initial_id",
   "metadata": {
    "collapsed": true,
    "ExecuteTime": {
     "end_time": "2023-11-22T16:18:43.396179200Z",
     "start_time": "2023-11-22T16:18:41.199811Z"
    }
   },
   "outputs": [],
   "source": [
    "import sys\n",
    "import matplotlib.pyplot as plt\n",
    "import matplotlib.image as mpimg\n",
    "\n",
    "sys.path.append(\"../src/\")\n",
    "\n",
    "from model_reconet.inference import inference"
   ]
  },
  {
   "cell_type": "code",
   "execution_count": 3,
   "outputs": [],
   "source": [
    "inference(\n",
    "    input_path=\"../data/model_reconet/input/videoplayback.mp4\",\n",
    "    output_path=\"../data/model_reconet/output/output.mp4\",\n",
    "    model_path=\"../models/model_reconet/model.pth\",\n",
    "    fps=None,\n",
    "    batch_size=2,\n",
    ")"
   ],
   "metadata": {
    "collapsed": false,
    "ExecuteTime": {
     "end_time": "2023-11-22T16:19:01.746567900Z",
     "start_time": "2023-11-22T16:18:49.924984300Z"
    }
   },
   "id": "9597fddcd0506336"
  },
  {
   "cell_type": "code",
   "execution_count": 4,
   "outputs": [
    {
     "data": {
      "text/plain": "<IPython.core.display.Video object>",
      "text/html": "<video src=\"../data/model_reconet/output/output.mp4\" controls  >\n      Your browser does not support the <code>video</code> element.\n    </video>"
     },
     "execution_count": 4,
     "metadata": {},
     "output_type": "execute_result"
    }
   ],
   "source": [
    "from IPython.display import Video\n",
    "\n",
    "Video(\"../data/model_reconet/output/output.mp4\")"
   ],
   "metadata": {
    "collapsed": false,
    "ExecuteTime": {
     "end_time": "2023-11-22T16:19:56.722362500Z",
     "start_time": "2023-11-22T16:19:56.705669500Z"
    }
   },
   "id": "3ce634fd367742d3"
  },
  {
   "cell_type": "code",
   "execution_count": null,
   "outputs": [],
   "source": [],
   "metadata": {
    "collapsed": false
   },
   "id": "c4f6d8879f2352b5"
  }
 ],
 "metadata": {
  "kernelspec": {
   "display_name": "Python 3",
   "language": "python",
   "name": "python3"
  },
  "language_info": {
   "codemirror_mode": {
    "name": "ipython",
    "version": 2
   },
   "file_extension": ".py",
   "mimetype": "text/x-python",
   "name": "python",
   "nbconvert_exporter": "python",
   "pygments_lexer": "ipython2",
   "version": "2.7.6"
  }
 },
 "nbformat": 4,
 "nbformat_minor": 5
}
